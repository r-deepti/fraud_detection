{
 "cells": [
  {
   "cell_type": "code",
   "execution_count": null,
   "metadata": {},
   "outputs": [],
   "source": [
    "# Importing all libraries required.\n",
    "import numpy as np\n",
    "import pandas as pd\n",
    "import matplotlib.pyplot as plt\n",
    "import seaborn as sns"
   ]
  },
  {
   "cell_type": "code",
   "execution_count": null,
   "metadata": {},
   "outputs": [],
   "source": [
    "# set it to convert scientific values\n",
    "pd.options.display.float_format = '{:.2f}'.format "
   ]
  },
  {
   "cell_type": "code",
   "execution_count": null,
   "metadata": {},
   "outputs": [],
   "source": [
    "# Regular expressions for string manipulation\n",
    "import re"
   ]
  },
  {
   "cell_type": "code",
   "execution_count": null,
   "metadata": {},
   "outputs": [],
   "source": [
    "# Ignore warnings due to version problems\n",
    "import warnings\n",
    "warnings.filterwarnings('ignore')"
   ]
  },
  {
   "cell_type": "code",
   "execution_count": null,
   "metadata": {},
   "outputs": [],
   "source": [
    "# Read CSV file \n",
    "loan = pd.read_csv(\"loan.csv\",dtype=object)"
   ]
  },
  {
   "cell_type": "code",
   "execution_count": null,
   "metadata": {},
   "outputs": [],
   "source": [
    "# basic information of the dataframe\n",
    "print(loan.shape)\n",
    "print(loan.info())\n",
    "print(loan.dtypes)"
   ]
  },
  {
   "cell_type": "code",
   "execution_count": null,
   "metadata": {},
   "outputs": [],
   "source": [
    "###### Data Cleaning ########\n",
    " # Remove Duplicate Rows\n",
    " # Remove Duplicate Columns\n",
    " # Remove NULL Rows\n",
    " # Remove NULL Columns\n",
    " # have only numbers in Employment length column\n",
    " # Convert NA to Not Known in pub_rec_bankruptcies\n",
    " # Convert to Numnbers for the Amount/Payment related columns\n",
    "#############################\n",
    "# Check for duplicate rows in dataset based on id column\n",
    "print(loan.duplicated(subset=None, keep='first').count())\n",
    "dup=loan[loan.duplicated(['id'])]\n",
    "dup"
   ]
  },
  {
   "cell_type": "code",
   "execution_count": null,
   "metadata": {},
   "outputs": [],
   "source": [
    "# Check and Remove empty Rows\n",
    "print('Number of empty Rows:')\n",
    "print(loan.isnull().all(axis=1).sum())"
   ]
  },
  {
   "cell_type": "code",
   "execution_count": null,
   "metadata": {},
   "outputs": [],
   "source": [
    "# Check and Remove Empty columns\n",
    "print('Number of empty Columns:')\n",
    "print(loan.isnull().all(axis=0).sum())"
   ]
  },
  {
   "cell_type": "code",
   "execution_count": null,
   "metadata": {},
   "outputs": [],
   "source": [
    "# Drop all the empty columns\n",
    "loan = loan.dropna(how= \"all\", axis=1)"
   ]
  },
  {
   "cell_type": "code",
   "execution_count": null,
   "metadata": {},
   "outputs": [],
   "source": [
    "# Check the total columns now. should be 111-54 = 57 columns\n",
    "print(loan.shape)"
   ]
  },
  {
   "cell_type": "code",
   "execution_count": null,
   "metadata": {},
   "outputs": [],
   "source": [
    "# Data cleaning\n",
    "# Lets format employment length column to have only numbers. It may play important role in analysis further.\n",
    "loan.emp_length.fillna('0',inplace=True)\n",
    "loan['emp_length']=loan.emp_length.str.extract('(\\d+)')\n",
    "loan.head(2)"
   ]
  },
  {
   "cell_type": "code",
   "execution_count": null,
   "metadata": {},
   "outputs": [],
   "source": [
    "# Data cleaning\n",
    "# Replace NA to Not Known in pub_rec_bankruptcies as this column might help for Loan approvals or Rejections\\\n",
    "loan.pub_rec_bankruptcies.fillna('Not Known',inplace=True)\n",
    "print(loan.pub_rec_bankruptcies.isnull().sum())"
   ]
  },
  {
   "cell_type": "code",
   "execution_count": null,
   "metadata": {},
   "outputs": [],
   "source": [
    "# Data cleaning\n",
    "# Lets remove % symbol from intrest rate column so that it can be used in calculations\n",
    "loan['int_rate'] = loan['int_rate'].str.rstrip('%')"
   ]
  },
  {
   "cell_type": "code",
   "execution_count": null,
   "metadata": {},
   "outputs": [],
   "source": [
    "# convert amount columns into numeric data to find some correlation among important ones.\n",
    "cols1 = ['loan_amnt','funded_amnt','int_rate','funded_amnt_inv','installment','annual_inc','dti','emp_length','total_pymnt']\n",
    "loan[cols1] = loan[cols1].apply(pd.to_numeric)"
   ]
  },
  {
   "cell_type": "code",
   "execution_count": null,
   "metadata": {},
   "outputs": [],
   "source": [
    "# Lets see distribution of Two loan amount fields using distribution plot.\n",
    "# Quantitative Variables\n",
    "\n",
    "plt.figure(figsize=(15,8),facecolor='b')\n",
    "sns.set_style(\"dark\")\n",
    "# subplot 1\n",
    "plt.subplot(2, 3, 1)\n",
    "ax = sns.distplot(loan['loan_amnt'],rug = True)\n",
    "ax.set_title('Loan Amount - Distribution Plot',fontsize=14,color='w')\n",
    "ax.set_xlabel('Loan Amount',fontsize=14,color='w')\n",
    "# subplot 2\n",
    "plt.subplot(2, 3, 2)\n",
    "ax = sns.distplot(loan['funded_amnt'],rug = True)\n",
    "ax.set_title('Funded Amount - Distribution Plot',fontsize=14,color='w')\n",
    "ax.set_xlabel('Funded Amount',fontsize=14,color='w')\n",
    "\n",
    "### Observation: Loan Amount and funded Amount both seems to fall under same range."
   ]
  },
  {
   "cell_type": "code",
   "execution_count": null,
   "metadata": {},
   "outputs": [],
   "source": [
    "# Univariate Analysis on Loan amount-Quantitative Variables\n",
    "\n",
    "plt.figure(figsize=(15,8),facecolor='b')\n",
    "sns.set_style(\"dark\")\n",
    "# subplot 1\n",
    "plt.subplot(2, 2, 1)\n",
    "ax = sns.distplot(loan['loan_amnt'],rug = True)\n",
    "ax.set_title('Loan Amount - Distribution Plot',fontsize=16,color='w')\n",
    "ax.set_xlabel('Loan Amount',fontsize=14,color='w')\n",
    "# subplot 2\n",
    "plt.subplot(2, 2, 2)\n",
    "ax = sns.boxplot(y=loan['loan_amnt'])\n",
    "ax.set_title('Loan Amount - Box Plot',fontsize=16,color='w')\n",
    "ax.set_ylabel('Loan Amount',fontsize=14,color='w')\n",
    "plt.show()\n",
    "\n",
    "### Observation: It shows that Loan amounts fall in the range of 5000 - 15000"
   ]
  },
  {
   "cell_type": "code",
   "execution_count": null,
   "metadata": {},
   "outputs": [],
   "source": [
    "# Univariate Analysis on Intrest Rate-Quantitative Variables\n",
    "\n",
    "plt.figure(figsize=(15,8),facecolor='b')\n",
    "sns.set_style(\"dark\")\n",
    "# subplot 1\n",
    "plt.subplot(2, 2, 1)\n",
    "ax = sns.distplot(loan['int_rate'],rug = True)\n",
    "ax.set_title('Interest Rate - Distribution Plot',fontsize=16,color='w')\n",
    "ax.set_xlabel('Interest Rate',fontsize=14,color='w')\n",
    "# subplot 2\n",
    "plt.subplot(2, 2, 2)\n",
    "ax = sns.boxplot(y=loan['int_rate'])\n",
    "ax.set_title('Interest Rate - Box Plot',fontsize=16,color='w')\n",
    "ax.set_ylabel('Interest Rate',fontsize=14,color='w')\n",
    "plt.show()\n",
    "\n",
    "### Observation: It shows that Loan Interest Rate fall in the range of 10 - 15%"
   ]
  },
  {
   "cell_type": "code",
   "execution_count": null,
   "metadata": {},
   "outputs": [],
   "source": [
    "# Lets derive few additional columns for further analysis\n",
    "# categorise loan amounts into buckets which will help in analysis further in bivariate analysis.\n",
    "loan['loan_amnt_cats'] = pd.cut(loan['loan_amnt'], [0, 7000, 14000, 21000, 28000, 35000], labels=['0-7000', '7000-14000', '14000-21000', '21000-28000', '28000 +'])"
   ]
  },
  {
   "cell_type": "code",
   "execution_count": null,
   "metadata": {},
   "outputs": [],
   "source": [
    "# categorise annual incomes into buckets which will help in analysis further in bivariate analysis.\n",
    "loan['annual_inc_cats'] = pd.cut(loan['annual_inc'], [0, 20000, 40000, 60000, 80000,1000000], labels=['0-20000', '20000-40000', '40000-60000', '60000-80000', '80000 +'])"
   ]
  },
  {
   "cell_type": "code",
   "execution_count": null,
   "metadata": {},
   "outputs": [],
   "source": [
    "# categorise intrest rates into buckets which will help in analysis further in bivariate analysis.\n",
    "loan['int_rate_cats'] = pd.cut(loan['int_rate'], [0, 10, 12.5, 16, 20], labels=['0-10', '10-13', '12.5-16', '16 +'])"
   ]
  },
  {
   "cell_type": "code",
   "execution_count": null,
   "metadata": {},
   "outputs": [],
   "source": [
    "# categorise dti into buckets for bivariate analysis.\n",
    "loan['dti_cats'] = pd.cut(loan['dti'], [0, 5, 10, 15, 20, 25], labels=['0-5', '05-10', '10-15', '15-20', '25+'])"
   ]
  },
  {
   "cell_type": "code",
   "execution_count": null,
   "metadata": {},
   "outputs": [],
   "source": [
    "# Bivariate Analysis on annual income against Chargedoff_Proportion -\n",
    "\n",
    "inc_range_vs_loan = loan.groupby(['annual_inc_cats', 'loan_status']).loan_status.count().unstack().fillna(0).reset_index()\n",
    "inc_range_vs_loan['Total'] = inc_range_vs_loan['Charged Off'] + inc_range_vs_loan['Current'] + inc_range_vs_loan['Fully Paid'] \n",
    "inc_range_vs_loan['Chargedoff_Proportion'] = inc_range_vs_loan['Charged Off'] / inc_range_vs_loan['Total']\n",
    "inc_range_vs_loan.sort_values('Chargedoff_Proportion', ascending=False)\n",
    "\n",
    "### Observation: Higher the Income range lesser the chances of charged off."
   ]
  },
  {
   "cell_type": "code",
   "execution_count": null,
   "metadata": {},
   "outputs": [],
   "source": [
    "# Lets draw bar plots on data calculated above. Try to visualize the pattern to understand the data better.\n",
    "\n",
    "fig, ax1 = plt.subplots(figsize=(12, 8),facecolor='b')\n",
    "ax1.set_title('Annual Income vs Chargedoff Proportion',fontsize=15,color = 'w')\n",
    "ax1=sns.barplot(x='annual_inc_cats', y='Chargedoff_Proportion', data=inc_range_vs_loan)\n",
    "ax1.set_ylabel('Chargedoff Proportion',fontsize=14,color = 'w')\n",
    "ax1.set_xlabel('Annual Income',fontsize=14,color='w')\n",
    "plt.show()"
   ]
  },
  {
   "cell_type": "code",
   "execution_count": null,
   "metadata": {},
   "outputs": [],
   "source": [
    "# Bivariate Analysis on purpose of Loan against Chargedoff_Proportion.\n",
    "\n",
    "purpose_vs_loan = loan.groupby(['purpose', 'loan_status']).loan_status.count().unstack().fillna(0).reset_index()\n",
    "purpose_vs_loan['Total'] = purpose_vs_loan['Charged Off'] + purpose_vs_loan['Current'] + purpose_vs_loan['Fully Paid'] \n",
    "purpose_vs_loan['Chargedoff_Proportion'] = purpose_vs_loan['Charged Off'] / purpose_vs_loan['Total']\n",
    "purpose_vs_loan.sort_values('Chargedoff_Proportion', ascending=False)\n",
    "\n",
    "### Observation: People who took loan for Small Business had high chances for Loan Charging off"
   ]
  },
  {
   "cell_type": "code",
   "execution_count": null,
   "metadata": {},
   "outputs": [],
   "source": [
    "# Lets draw bar plots on data calculated above. Try to visualize the pattern to understand the data better.\n",
    "# pairs of continuous variables.\n",
    "fig, ax1 = plt.subplots(figsize=(14, 8),facecolor='b')\n",
    "ax1.set_title('Purpose of Loans vs Chargedoff Proportion',fontsize=15,color = 'w')\n",
    "ax1=sns.barplot(y='purpose', x='Chargedoff_Proportion', data=purpose_vs_loan)\n",
    "ax1.set_ylabel('Purpose of Loans',fontsize=14,color='w')\n",
    "ax1.set_xlabel('Chargedoff Proportion',fontsize=14,color = 'w')\n",
    "plt.show()"
   ]
  },
  {
   "cell_type": "code",
   "execution_count": null,
   "metadata": {},
   "outputs": [],
   "source": [
    "# Bivariate Analysis on Loan Amount against Chargedoff_Proportion -\n",
    "\n",
    "inc_range_vs_loan = loan.groupby(['loan_amnt_cats', 'loan_status']).loan_status.count().unstack().fillna(0).reset_index()\n",
    "inc_range_vs_loan['Total'] = inc_range_vs_loan['Charged Off'] + inc_range_vs_loan['Current'] + inc_range_vs_loan['Fully Paid'] \n",
    "inc_range_vs_loan['Chargedoff_Proportion'] = inc_range_vs_loan['Charged Off'] / inc_range_vs_loan['Total']\n",
    "inc_range_vs_loan.sort_values('Chargedoff_Proportion', ascending=False)\n",
    "\n",
    "### Observation: Higher the Loan Amont Higher the chances of charged off."
   ]
  },
  {
   "cell_type": "code",
   "execution_count": null,
   "metadata": {},
   "outputs": [],
   "source": [
    "# Lets draw bar plots on data calculated above. Try to visualize the pattern to understand the data better.\n",
    "\n",
    "fig, ax1 = plt.subplots(figsize=(12, 8),facecolor='b')\n",
    "ax1.set_title('Loan Amount vs Chargedoff Proportion',fontsize=15,color = 'w')\n",
    "ax1=sns.barplot(x='loan_amnt_cats', y='Chargedoff_Proportion', data=inc_range_vs_loan)\n",
    "ax1.set_ylabel('Chargedoff Proportion',fontsize=14,color = 'w')\n",
    "ax1.set_xlabel('Loan Amount',fontsize=14,color='w')\n",
    "plt.show()"
   ]
  },
  {
   "cell_type": "code",
   "execution_count": null,
   "metadata": {},
   "outputs": [],
   "source": [
    "# Bivariate Analysis on Interest Rate against Chargedoff_Proportion -\n",
    "\n",
    "inc_range_vs_loan = loan.groupby(['int_rate_cats', 'loan_status']).loan_status.count().unstack().fillna(0).reset_index()\n",
    "inc_range_vs_loan['Total'] = inc_range_vs_loan['Charged Off'] + inc_range_vs_loan['Current'] + inc_range_vs_loan['Fully Paid'] \n",
    "inc_range_vs_loan['Chargedoff_Proportion'] = inc_range_vs_loan['Charged Off'] / inc_range_vs_loan['Total']\n",
    "inc_range_vs_loan.sort_values('Chargedoff_Proportion', ascending=False)\n",
    "\n",
    "### Observation: Higher the Loan Interest rate Higher the chances of charged off."
   ]
  },
  {
   "cell_type": "code",
   "execution_count": null,
   "metadata": {},
   "outputs": [],
   "source": [
    "# Lets draw bar plots on data calculated above. Try to visualize the pattern to understand the data better.\n",
    "\n",
    "fig, ax1 = plt.subplots(figsize=(12, 8),facecolor='b')\n",
    "ax1.set_title('Loan Amount vs Chargedoff Proportion',fontsize=15,color = 'w')\n",
    "ax1=sns.barplot(x='int_rate_cats', y='Chargedoff_Proportion', data=inc_range_vs_loan)\n",
    "ax1.set_ylabel('Chargedoff Proportion',fontsize=14,color = 'w')\n",
    "ax1.set_xlabel('Interest Rates',fontsize=14,color='w')\n",
    "plt.show()"
   ]
  }
 ],
 "metadata": {
  "kernelspec": {
   "display_name": "Python 3.11.1 64-bit",
   "language": "python",
   "name": "python3"
  },
  "language_info": {
   "name": "python",
   "version": "3.11.1"
  },
  "orig_nbformat": 4,
  "vscode": {
   "interpreter": {
    "hash": "aee8b7b246df8f9039afb4144a1f6fd8d2ca17a180786b69acc140d282b71a49"
   }
  }
 },
 "nbformat": 4,
 "nbformat_minor": 2
}
